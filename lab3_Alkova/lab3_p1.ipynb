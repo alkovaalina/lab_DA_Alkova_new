{
 "cells": [
  {
   "cell_type": "code",
   "execution_count": 5,
   "id": "1f06fb9c-b99c-44f5-aceb-9936bdd3c587",
   "metadata": {},
   "outputs": [
    {
     "name": "stdout",
     "output_type": "stream",
     "text": [
      "Назви колонок: Index(['Temperature', 'Humidity', 'Wind Speed', 'Precipitation (%)',\n",
      "       'Cloud Cover', 'Atmospheric Pressure', 'UV Index', 'Season',\n",
      "       'Visibility (km)', 'Location', 'Weather Type'],\n",
      "      dtype='object')\n",
      "Розмір датасета: (13200, 11)\n"
     ]
    }
   ],
   "source": [
    "import tensorflow as tf\n",
    "import pandas as pd\n",
    "from tensorflow.keras.models import Sequential\n",
    "from tensorflow.keras.layers import Dense, Dropout\n",
    "from sklearn.preprocessing import StandardScaler, LabelEncoder\n",
    "from sklearn.model_selection import train_test_split\n",
    "from tensorflow.keras.utils import to_categorical\n",
    "\n",
    "df = pd.read_csv('weather_classification_data.csv')\n",
    "\n",
    "# Виведення назв колонок і розміру датасету\n",
    "print(\"Назви колонок:\", df.columns)\n",
    "print(\"Розмір датасета:\", df.shape)"
   ]
  },
  {
   "cell_type": "code",
   "execution_count": 6,
   "id": "26aeaf2a-741d-4781-b49f-6550525cdcaa",
   "metadata": {},
   "outputs": [
    {
     "name": "stdout",
     "output_type": "stream",
     "text": [
      "Розшифровка для 'Cloud Cover':\n",
      "  0: clear\n",
      "  1: cloudy\n",
      "  2: overcast\n",
      "  3: partly cloudy\n",
      "Розшифровка для 'Season':\n",
      "  0: Autumn\n",
      "  1: Spring\n",
      "  2: Summer\n",
      "  3: Winter\n",
      "Розшифровка для 'Location':\n",
      "  0: coastal\n",
      "  1: inland\n",
      "  2: mountain\n",
      "Розшифровка для 'Weather Type':\n",
      "  0: Cloudy\n",
      "  1: Rainy\n",
      "  2: Snowy\n",
      "  3: Sunny\n"
     ]
    }
   ],
   "source": [
    "# Перетворення категоріальних змінних за допомогою LabelEncoder\n",
    "label_encoders = {}\n",
    "categorical_cols = ['Cloud Cover', 'Season', 'Location', 'Weather Type']\n",
    "\n",
    "for col in categorical_cols:\n",
    "    le = LabelEncoder()\n",
    "    df[col] = le.fit_transform(df[col])\n",
    "    label_encoders[col] = le\n",
    "    \n",
    "    # Виводимо розшифровку значень\n",
    "    print(f\"Розшифровка для '{col}':\")\n",
    "    for idx, class_ in enumerate(le.classes_):\n",
    "        print(f\"  {idx}: {class_}\")"
   ]
  },
  {
   "cell_type": "code",
   "execution_count": 7,
   "id": "ec62bfcb-76d1-4ad2-9649-5296c9e8db35",
   "metadata": {},
   "outputs": [],
   "source": [
    "# Нормалізація числових значень\n",
    "numerical_cols = df.select_dtypes(include=['float64', 'int64']).columns\n",
    "scaler = StandardScaler()\n",
    "df[numerical_cols] = scaler.fit_transform(df[numerical_cols])"
   ]
  },
  {
   "cell_type": "code",
   "execution_count": 8,
   "id": "b43dfe1e-a848-4989-b7ba-1a766f6a2043",
   "metadata": {},
   "outputs": [],
   "source": [
    "# Відділяємо ціьову змінну\n",
    "X = df.drop('Weather Type', axis=1)\n",
    "y = df['Weather Type']\n",
    "\n",
    "# Розділяємо дані на тренувальний і тестовий набори\n",
    "X_train, X_test, y_train, y_test = train_test_split(X, y, test_size=0.2, random_state=42)"
   ]
  },
  {
   "cell_type": "code",
   "execution_count": 9,
   "id": "996add03-372a-4b4a-b40e-2a5a8bc04bfc",
   "metadata": {},
   "outputs": [
    {
     "name": "stdout",
     "output_type": "stream",
     "text": [
      "Epoch 1/30\n",
      "330/330 [==============================] - 1s 2ms/step - loss: 0.9896 - accuracy: 0.6006 - val_loss: 0.5252 - val_accuracy: 0.8470\n",
      "Epoch 2/30\n",
      "330/330 [==============================] - 0s 1ms/step - loss: 0.6593 - accuracy: 0.7903 - val_loss: 0.4183 - val_accuracy: 0.8727\n",
      "Epoch 3/30\n",
      "330/330 [==============================] - 0s 1ms/step - loss: 0.5496 - accuracy: 0.8263 - val_loss: 0.3685 - val_accuracy: 0.8769\n",
      "Epoch 4/30\n",
      "330/330 [==============================] - 0s 1ms/step - loss: 0.4885 - accuracy: 0.8473 - val_loss: 0.3390 - val_accuracy: 0.8792\n",
      "Epoch 5/30\n",
      "330/330 [==============================] - 0s 1ms/step - loss: 0.4430 - accuracy: 0.8610 - val_loss: 0.3118 - val_accuracy: 0.8830\n",
      "Epoch 6/30\n",
      "330/330 [==============================] - 0s 1ms/step - loss: 0.4055 - accuracy: 0.8651 - val_loss: 0.2990 - val_accuracy: 0.8848\n",
      "Epoch 7/30\n",
      "330/330 [==============================] - 0s 1ms/step - loss: 0.3813 - accuracy: 0.8741 - val_loss: 0.2866 - val_accuracy: 0.8902\n",
      "Epoch 8/30\n",
      "330/330 [==============================] - 0s 1ms/step - loss: 0.3693 - accuracy: 0.8781 - val_loss: 0.2746 - val_accuracy: 0.8920\n",
      "Epoch 9/30\n",
      "330/330 [==============================] - 0s 1ms/step - loss: 0.3480 - accuracy: 0.8810 - val_loss: 0.2686 - val_accuracy: 0.8936\n",
      "Epoch 10/30\n",
      "330/330 [==============================] - 0s 1ms/step - loss: 0.3423 - accuracy: 0.8825 - val_loss: 0.2677 - val_accuracy: 0.8879\n",
      "Epoch 11/30\n",
      "330/330 [==============================] - 0s 1ms/step - loss: 0.3365 - accuracy: 0.8813 - val_loss: 0.2574 - val_accuracy: 0.8962\n",
      "Epoch 12/30\n",
      "330/330 [==============================] - 0s 1ms/step - loss: 0.3189 - accuracy: 0.8847 - val_loss: 0.2542 - val_accuracy: 0.8943\n",
      "Epoch 13/30\n",
      "330/330 [==============================] - 0s 1ms/step - loss: 0.3118 - accuracy: 0.8884 - val_loss: 0.2507 - val_accuracy: 0.8977\n",
      "Epoch 14/30\n",
      "330/330 [==============================] - 0s 1ms/step - loss: 0.2994 - accuracy: 0.8918 - val_loss: 0.2539 - val_accuracy: 0.8951\n",
      "Epoch 15/30\n",
      "330/330 [==============================] - 0s 1ms/step - loss: 0.2985 - accuracy: 0.8886 - val_loss: 0.2532 - val_accuracy: 0.8973\n",
      "Epoch 16/30\n",
      "330/330 [==============================] - 0s 1ms/step - loss: 0.2948 - accuracy: 0.8901 - val_loss: 0.2457 - val_accuracy: 0.8955\n",
      "Epoch 17/30\n",
      "330/330 [==============================] - 0s 1ms/step - loss: 0.2890 - accuracy: 0.8914 - val_loss: 0.2401 - val_accuracy: 0.8977\n",
      "Epoch 18/30\n",
      "330/330 [==============================] - 0s 1ms/step - loss: 0.2812 - accuracy: 0.8928 - val_loss: 0.2440 - val_accuracy: 0.8951\n",
      "Epoch 19/30\n",
      "330/330 [==============================] - 0s 1ms/step - loss: 0.2843 - accuracy: 0.8902 - val_loss: 0.2363 - val_accuracy: 0.8977\n",
      "Epoch 20/30\n",
      "330/330 [==============================] - 0s 1ms/step - loss: 0.2778 - accuracy: 0.8906 - val_loss: 0.2350 - val_accuracy: 0.8966\n",
      "Epoch 21/30\n",
      "330/330 [==============================] - 0s 1ms/step - loss: 0.2758 - accuracy: 0.8926 - val_loss: 0.2300 - val_accuracy: 0.8985\n",
      "Epoch 22/30\n",
      "330/330 [==============================] - 0s 1ms/step - loss: 0.2714 - accuracy: 0.8928 - val_loss: 0.2321 - val_accuracy: 0.8996\n",
      "Epoch 23/30\n",
      "330/330 [==============================] - 0s 1ms/step - loss: 0.2699 - accuracy: 0.8925 - val_loss: 0.2322 - val_accuracy: 0.8973\n",
      "Epoch 24/30\n",
      "330/330 [==============================] - 0s 1ms/step - loss: 0.2742 - accuracy: 0.8935 - val_loss: 0.2332 - val_accuracy: 0.8951\n",
      "Epoch 25/30\n",
      "330/330 [==============================] - 0s 1ms/step - loss: 0.2698 - accuracy: 0.8938 - val_loss: 0.2270 - val_accuracy: 0.8996\n",
      "Epoch 26/30\n",
      "330/330 [==============================] - 0s 1ms/step - loss: 0.2653 - accuracy: 0.8946 - val_loss: 0.2282 - val_accuracy: 0.8977\n",
      "Epoch 27/30\n",
      "330/330 [==============================] - 0s 1ms/step - loss: 0.2626 - accuracy: 0.8958 - val_loss: 0.2229 - val_accuracy: 0.8992\n",
      "Epoch 28/30\n",
      "330/330 [==============================] - 0s 1ms/step - loss: 0.2664 - accuracy: 0.8973 - val_loss: 0.2241 - val_accuracy: 0.8973\n",
      "Epoch 29/30\n",
      "330/330 [==============================] - 0s 1ms/step - loss: 0.2665 - accuracy: 0.8973 - val_loss: 0.2211 - val_accuracy: 0.9004\n",
      "Epoch 30/30\n",
      "330/330 [==============================] - 0s 1ms/step - loss: 0.2545 - accuracy: 0.8980 - val_loss: 0.2224 - val_accuracy: 0.8973\n"
     ]
    }
   ],
   "source": [
    "# Побудова моделі\n",
    "model = Sequential([\n",
    "    Dense(64, input_shape=(X_train.shape[1],), activation='relu'),\n",
    "    Dropout(0.5),\n",
    "    Dense(32, activation='relu'),\n",
    "    Dropout(0.5),\n",
    "    Dense(num_classes, activation='softmax')\n",
    "])\n",
    "\n",
    "# Компіляція моделі\n",
    "model.compile(optimizer='adam', loss='sparse_categorical_crossentropy', metrics=['accuracy'])\n",
    "#Навчання\n",
    "history = model.fit(X_train, y_train, epochs=30, batch_size=32, validation_data=(X_test, y_test))"
   ]
  },
  {
   "cell_type": "code",
   "execution_count": 10,
   "id": "e8cf12cb-1444-4329-9935-deb08a51d2a9",
   "metadata": {},
   "outputs": [
    {
     "name": "stdout",
     "output_type": "stream",
     "text": [
      "83/83 [==============================] - 0s 983us/step - loss: 0.2224 - accuracy: 0.8973\n",
      "Точність на тестових даних: 0.90\n"
     ]
    }
   ],
   "source": [
    "test_loss, test_accuracy = model.evaluate(X_test, y_test)\n",
    "print(f\"Точність на тестових даних: {test_accuracy:.2f}\")\n"
   ]
  },
  {
   "cell_type": "code",
   "execution_count": null,
   "id": "8de668df-bb26-49e5-abd0-b1bd6bf7b977",
   "metadata": {},
   "outputs": [],
   "source": []
  }
 ],
 "metadata": {
  "kernelspec": {
   "display_name": "Python 3 (ipykernel)",
   "language": "python",
   "name": "python3"
  },
  "language_info": {
   "codemirror_mode": {
    "name": "ipython",
    "version": 3
   },
   "file_extension": ".py",
   "mimetype": "text/x-python",
   "name": "python",
   "nbconvert_exporter": "python",
   "pygments_lexer": "ipython3",
   "version": "3.11.5"
  }
 },
 "nbformat": 4,
 "nbformat_minor": 5
}
